{
 "cells": [
  {
   "cell_type": "code",
   "execution_count": 3,
   "metadata": {},
   "outputs": [],
   "source": [
    "# imports\n",
    "import matplotlib.pyplot as plt\n",
    "import numpy as np\n",
    "import sys\n",
    "sys.path.append(\"..//\")\n",
    "import farField.farField as ff"
   ]
  },
  {
   "cell_type": "code",
   "execution_count": 4,
   "metadata": {},
   "outputs": [],
   "source": [
    "data0 = \"C:\\\\Users\\\\spbro\\\\OneDrive - University of Cincinnati\\\\Cuppoletti Lab\" \\\n",
    "            \"\\\\NearFieldAcousticDuctedRotor\\\\slade mic data\\\\20220725\\\\ducted\\\\tm0.50\" \\\n",
    "            \"\\\\mic6inplane\\\\\"\n",
    "\n",
    "micData = ff.micData(data0, 204800, 5)"
   ]
  }
 ],
 "metadata": {
  "kernelspec": {
   "display_name": "Python 3",
   "language": "python",
   "name": "python3"
  },
  "language_info": {
   "codemirror_mode": {
    "name": "ipython",
    "version": 3
   },
   "file_extension": ".py",
   "mimetype": "text/x-python",
   "name": "python",
   "nbconvert_exporter": "python",
   "pygments_lexer": "ipython3",
   "version": "3.9.15"
  },
  "orig_nbformat": 4
 },
 "nbformat": 4,
 "nbformat_minor": 2
}
